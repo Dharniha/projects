{
  "nbformat": 4,
  "nbformat_minor": 0,
  "metadata": {
    "colab": {
      "name": "lazypredict",
      "provenance": [],
      "collapsed_sections": [],
      "authorship_tag": "ABX9TyN45YghQDrI6+bTBrvm+0Ki",
      "include_colab_link": true
    },
    "kernelspec": {
      "name": "python3",
      "display_name": "Python 3"
    },
    "language_info": {
      "name": "python"
    }
  },
  "cells": [
    {
      "cell_type": "markdown",
      "metadata": {
        "id": "view-in-github",
        "colab_type": "text"
      },
      "source": [
        "<a href=\"https://colab.research.google.com/github/Dharniha/projects/blob/main/lazypredict.ipynb\" target=\"_parent\"><img src=\"https://colab.research.google.com/assets/colab-badge.svg\" alt=\"Open In Colab\"/></a>"
      ]
    },
    {
      "cell_type": "code",
      "execution_count": 2,
      "metadata": {
        "colab": {
          "base_uri": "https://localhost:8080/",
          "height": 1000
        },
        "id": "kuDaliEx4iSO",
        "outputId": "748779c3-8729-4971-c3da-9193afd779b7"
      },
      "outputs": [
        {
          "output_type": "stream",
          "name": "stdout",
          "text": [
            "Collecting lazypredict\n",
            "  Downloading lazypredict-0.2.9-py2.py3-none-any.whl (12 kB)\n",
            "Collecting lightgbm==2.3.1\n",
            "  Downloading lightgbm-2.3.1-py2.py3-none-manylinux1_x86_64.whl (1.2 MB)\n",
            "\u001b[K     |████████████████████████████████| 1.2 MB 7.4 MB/s \n",
            "\u001b[?25hCollecting scipy==1.5.4\n",
            "  Downloading scipy-1.5.4-cp37-cp37m-manylinux1_x86_64.whl (25.9 MB)\n",
            "\u001b[K     |████████████████████████████████| 25.9 MB 1.4 MB/s \n",
            "\u001b[?25hRequirement already satisfied: six==1.15.0 in /usr/local/lib/python3.7/dist-packages (from lazypredict) (1.15.0)\n",
            "Collecting PyYAML==5.3.1\n",
            "  Downloading PyYAML-5.3.1.tar.gz (269 kB)\n",
            "\u001b[K     |████████████████████████████████| 269 kB 44.1 MB/s \n",
            "\u001b[?25hCollecting scikit-learn==0.23.1\n",
            "  Downloading scikit_learn-0.23.1-cp37-cp37m-manylinux1_x86_64.whl (6.8 MB)\n",
            "\u001b[K     |████████████████████████████████| 6.8 MB 48.9 MB/s \n",
            "\u001b[?25hCollecting numpy==1.19.1\n",
            "  Downloading numpy-1.19.1-cp37-cp37m-manylinux2010_x86_64.whl (14.5 MB)\n",
            "\u001b[K     |████████████████████████████████| 14.5 MB 40.9 MB/s \n",
            "\u001b[?25hCollecting xgboost==1.1.1\n",
            "  Downloading xgboost-1.1.1-py3-none-manylinux2010_x86_64.whl (127.6 MB)\n",
            "\u001b[K     |████████████████████████████████| 127.6 MB 21 kB/s \n",
            "\u001b[?25hCollecting joblib==1.0.0\n",
            "  Downloading joblib-1.0.0-py3-none-any.whl (302 kB)\n",
            "\u001b[K     |████████████████████████████████| 302 kB 61.9 MB/s \n",
            "\u001b[?25hCollecting pytest==5.4.3\n",
            "  Downloading pytest-5.4.3-py3-none-any.whl (248 kB)\n",
            "\u001b[K     |████████████████████████████████| 248 kB 60.1 MB/s \n",
            "\u001b[?25hCollecting pandas==1.0.5\n",
            "  Downloading pandas-1.0.5-cp37-cp37m-manylinux1_x86_64.whl (10.1 MB)\n",
            "\u001b[K     |████████████████████████████████| 10.1 MB 41.2 MB/s \n",
            "\u001b[?25hRequirement already satisfied: click==7.1.2 in /usr/local/lib/python3.7/dist-packages (from lazypredict) (7.1.2)\n",
            "Collecting tqdm==4.56.0\n",
            "  Downloading tqdm-4.56.0-py2.py3-none-any.whl (72 kB)\n",
            "\u001b[K     |████████████████████████████████| 72 kB 965 kB/s \n",
            "\u001b[?25hRequirement already satisfied: pytz>=2017.2 in /usr/local/lib/python3.7/dist-packages (from pandas==1.0.5->lazypredict) (2022.1)\n",
            "Requirement already satisfied: python-dateutil>=2.6.1 in /usr/local/lib/python3.7/dist-packages (from pandas==1.0.5->lazypredict) (2.8.2)\n",
            "Requirement already satisfied: attrs>=17.4.0 in /usr/local/lib/python3.7/dist-packages (from pytest==5.4.3->lazypredict) (21.4.0)\n",
            "Requirement already satisfied: packaging in /usr/local/lib/python3.7/dist-packages (from pytest==5.4.3->lazypredict) (21.3)\n",
            "Requirement already satisfied: wcwidth in /usr/local/lib/python3.7/dist-packages (from pytest==5.4.3->lazypredict) (0.2.5)\n",
            "Requirement already satisfied: py>=1.5.0 in /usr/local/lib/python3.7/dist-packages (from pytest==5.4.3->lazypredict) (1.11.0)\n",
            "Collecting pluggy<1.0,>=0.12\n",
            "  Downloading pluggy-0.13.1-py2.py3-none-any.whl (18 kB)\n",
            "Requirement already satisfied: more-itertools>=4.0.0 in /usr/local/lib/python3.7/dist-packages (from pytest==5.4.3->lazypredict) (8.12.0)\n",
            "Requirement already satisfied: importlib-metadata>=0.12 in /usr/local/lib/python3.7/dist-packages (from pytest==5.4.3->lazypredict) (4.11.3)\n",
            "Requirement already satisfied: threadpoolctl>=2.0.0 in /usr/local/lib/python3.7/dist-packages (from scikit-learn==0.23.1->lazypredict) (3.1.0)\n",
            "Requirement already satisfied: zipp>=0.5 in /usr/local/lib/python3.7/dist-packages (from importlib-metadata>=0.12->pytest==5.4.3->lazypredict) (3.8.0)\n",
            "Requirement already satisfied: typing-extensions>=3.6.4 in /usr/local/lib/python3.7/dist-packages (from importlib-metadata>=0.12->pytest==5.4.3->lazypredict) (4.2.0)\n",
            "Requirement already satisfied: pyparsing!=3.0.5,>=2.0.2 in /usr/local/lib/python3.7/dist-packages (from packaging->pytest==5.4.3->lazypredict) (3.0.8)\n",
            "Building wheels for collected packages: PyYAML\n",
            "  Building wheel for PyYAML (setup.py) ... \u001b[?25l\u001b[?25hdone\n",
            "  Created wheel for PyYAML: filename=PyYAML-5.3.1-cp37-cp37m-linux_x86_64.whl size=44636 sha256=e082224b92ca75594647ef9c7b05a54461d21e9c22a489fa72461d54a2563f03\n",
            "  Stored in directory: /root/.cache/pip/wheels/5e/03/1e/e1e954795d6f35dfc7b637fe2277bff021303bd9570ecea653\n",
            "Successfully built PyYAML\n",
            "Installing collected packages: numpy, scipy, joblib, scikit-learn, pluggy, xgboost, tqdm, PyYAML, pytest, pandas, lightgbm, lazypredict\n",
            "  Attempting uninstall: numpy\n",
            "    Found existing installation: numpy 1.21.6\n",
            "    Uninstalling numpy-1.21.6:\n",
            "      Successfully uninstalled numpy-1.21.6\n",
            "  Attempting uninstall: scipy\n",
            "    Found existing installation: scipy 1.4.1\n",
            "    Uninstalling scipy-1.4.1:\n",
            "      Successfully uninstalled scipy-1.4.1\n",
            "  Attempting uninstall: joblib\n",
            "    Found existing installation: joblib 1.1.0\n",
            "    Uninstalling joblib-1.1.0:\n",
            "      Successfully uninstalled joblib-1.1.0\n",
            "  Attempting uninstall: scikit-learn\n",
            "    Found existing installation: scikit-learn 1.0.2\n",
            "    Uninstalling scikit-learn-1.0.2:\n",
            "      Successfully uninstalled scikit-learn-1.0.2\n",
            "  Attempting uninstall: pluggy\n",
            "    Found existing installation: pluggy 0.7.1\n",
            "    Uninstalling pluggy-0.7.1:\n",
            "      Successfully uninstalled pluggy-0.7.1\n",
            "  Attempting uninstall: xgboost\n",
            "    Found existing installation: xgboost 0.90\n",
            "    Uninstalling xgboost-0.90:\n",
            "      Successfully uninstalled xgboost-0.90\n",
            "  Attempting uninstall: tqdm\n",
            "    Found existing installation: tqdm 4.64.0\n",
            "    Uninstalling tqdm-4.64.0:\n",
            "      Successfully uninstalled tqdm-4.64.0\n",
            "  Attempting uninstall: PyYAML\n",
            "    Found existing installation: PyYAML 3.13\n",
            "    Uninstalling PyYAML-3.13:\n",
            "      Successfully uninstalled PyYAML-3.13\n",
            "  Attempting uninstall: pytest\n",
            "    Found existing installation: pytest 3.6.4\n",
            "    Uninstalling pytest-3.6.4:\n",
            "      Successfully uninstalled pytest-3.6.4\n",
            "  Attempting uninstall: pandas\n",
            "    Found existing installation: pandas 1.3.5\n",
            "    Uninstalling pandas-1.3.5:\n",
            "      Successfully uninstalled pandas-1.3.5\n",
            "  Attempting uninstall: lightgbm\n",
            "    Found existing installation: lightgbm 2.2.3\n",
            "    Uninstalling lightgbm-2.2.3:\n",
            "      Successfully uninstalled lightgbm-2.2.3\n",
            "\u001b[31mERROR: pip's dependency resolver does not currently take into account all the packages that are installed. This behaviour is the source of the following dependency conflicts.\n",
            "tensorflow 2.8.0 requires tf-estimator-nightly==2.8.0.dev2021122109, which is not installed.\n",
            "yellowbrick 1.4 requires scikit-learn>=1.0.0, but you have scikit-learn 0.23.1 which is incompatible.\n",
            "tensorflow 2.8.0 requires numpy>=1.20, but you have numpy 1.19.1 which is incompatible.\n",
            "imbalanced-learn 0.8.1 requires scikit-learn>=0.24, but you have scikit-learn 0.23.1 which is incompatible.\n",
            "google-colab 1.0.0 requires pandas>=1.1.0; python_version >= \"3.0\", but you have pandas 1.0.5 which is incompatible.\n",
            "datascience 0.10.6 requires folium==0.2.1, but you have folium 0.8.3 which is incompatible.\n",
            "albumentations 0.1.12 requires imgaug<0.2.7,>=0.2.5, but you have imgaug 0.2.9 which is incompatible.\u001b[0m\n",
            "Successfully installed PyYAML-5.3.1 joblib-1.0.0 lazypredict-0.2.9 lightgbm-2.3.1 numpy-1.19.1 pandas-1.0.5 pluggy-0.13.1 pytest-5.4.3 scikit-learn-0.23.1 scipy-1.5.4 tqdm-4.56.0 xgboost-1.1.1\n"
          ]
        },
        {
          "output_type": "display_data",
          "data": {
            "application/vnd.colab-display-data+json": {
              "pip_warning": {
                "packages": [
                  "numpy"
                ]
              }
            }
          },
          "metadata": {}
        }
      ],
      "source": [
        "pip install lazypredict"
      ]
    },
    {
      "cell_type": "code",
      "source": [
        "import lazypredict"
      ],
      "metadata": {
        "id": "57MQrISk4tbQ"
      },
      "execution_count": 1,
      "outputs": []
    },
    {
      "cell_type": "code",
      "source": [
        "### importing lazypredict library\n",
        "import lazypredict\n",
        "### importing LazyClassifier for classification problem\n",
        "from lazypredict.Supervised import LazyClassifier\n",
        "### importing LazyClassifier for classification problem because here we are solving Classification use case.\n",
        "from lazypredict.Supervised import LazyClassifier\n",
        "### importing breast Cancer Dataset from sklearn\n",
        "from sklearn.datasets import load_breast_cancer\n",
        "### spliting dataset into training and testing part\n",
        "from sklearn.model_selection import train_test_split"
      ],
      "metadata": {
        "colab": {
          "base_uri": "https://localhost:8080/"
        },
        "id": "Z-BI4H8K6-fG",
        "outputId": "a20c7a58-79f9-4824-d548-c1f0ba66d5e5"
      },
      "execution_count": 2,
      "outputs": [
        {
          "output_type": "stream",
          "name": "stderr",
          "text": [
            "/usr/local/lib/python3.7/dist-packages/sklearn/utils/deprecation.py:143: FutureWarning: The sklearn.utils.testing module is  deprecated in version 0.22 and will be removed in version 0.24. The corresponding classes / functions should instead be imported from sklearn.utils. Anything that cannot be imported from sklearn.utils is now part of the private API.\n",
            "  warnings.warn(message, FutureWarning)\n"
          ]
        }
      ]
    },
    {
      "cell_type": "code",
      "source": [
        "### storing dataset in data variable\n",
        "data = load_breast_cancer()"
      ],
      "metadata": {
        "id": "IkShpQq_7Cbr"
      },
      "execution_count": 3,
      "outputs": []
    },
    {
      "cell_type": "code",
      "source": [
        "### separating dataset into dependent and independent features\n",
        "X = data.data\n",
        "y = data.target"
      ],
      "metadata": {
        "id": "R0EoOmgL7Ker"
      },
      "execution_count": 4,
      "outputs": []
    },
    {
      "cell_type": "code",
      "source": [
        "### splitting dataset into training and testing part(50% training and 50% testing)\n",
        "X_train, X_test, y_train, y_test = train_test_split(X, y, test_size=.5, random_state =123)"
      ],
      "metadata": {
        "id": "VvMHMbyt7PlA"
      },
      "execution_count": 5,
      "outputs": []
    },
    {
      "cell_type": "code",
      "source": [
        "clf = LazyClassifier(verbose=0, ignore_warnings=True, custom_metric = None)"
      ],
      "metadata": {
        "id": "Xzsh5x9p7XIm"
      },
      "execution_count": 6,
      "outputs": []
    },
    {
      "cell_type": "code",
      "source": [
        "### fitting data in LazyClassifier\n",
        "models,predictions = clf.fit(X_train, X_test, y_train, y_test)\n",
        "### lets check which model did better on Breast Cancer Dataset\n",
        "print(models)"
      ],
      "metadata": {
        "colab": {
          "base_uri": "https://localhost:8080/"
        },
        "id": "8Sl_vb1d7bL0",
        "outputId": "31bd5a46-dbad-4a6f-b8d1-c6ac91c5fbc0"
      },
      "execution_count": 7,
      "outputs": [
        {
          "output_type": "stream",
          "name": "stderr",
          "text": [
            "100%|██████████| 29/29 [00:01<00:00, 18.32it/s]"
          ]
        },
        {
          "output_type": "stream",
          "name": "stdout",
          "text": [
            "                               Accuracy  Balanced Accuracy  ROC AUC  F1 Score  \\\n",
            "Model                                                                           \n",
            "LinearSVC                          0.99               0.99     0.99      0.99   \n",
            "Perceptron                         0.99               0.98     0.98      0.99   \n",
            "LogisticRegression                 0.99               0.98     0.98      0.99   \n",
            "SVC                                0.98               0.98     0.98      0.98   \n",
            "XGBClassifier                      0.98               0.98     0.98      0.98   \n",
            "LabelPropagation                   0.98               0.97     0.97      0.98   \n",
            "LabelSpreading                     0.98               0.97     0.97      0.98   \n",
            "BaggingClassifier                  0.97               0.97     0.97      0.97   \n",
            "PassiveAggressiveClassifier        0.98               0.97     0.97      0.98   \n",
            "SGDClassifier                      0.98               0.97     0.97      0.98   \n",
            "RandomForestClassifier             0.97               0.97     0.97      0.97   \n",
            "CalibratedClassifierCV             0.98               0.97     0.97      0.98   \n",
            "QuadraticDiscriminantAnalysis      0.96               0.97     0.97      0.97   \n",
            "ExtraTreesClassifier               0.97               0.96     0.96      0.97   \n",
            "RidgeClassifierCV                  0.97               0.96     0.96      0.97   \n",
            "LGBMClassifier                     0.96               0.96     0.96      0.96   \n",
            "RidgeClassifier                    0.97               0.96     0.96      0.97   \n",
            "AdaBoostClassifier                 0.96               0.96     0.96      0.96   \n",
            "KNeighborsClassifier               0.96               0.96     0.96      0.96   \n",
            "BernoulliNB                        0.95               0.95     0.95      0.95   \n",
            "LinearDiscriminantAnalysis         0.96               0.95     0.95      0.96   \n",
            "GaussianNB                         0.95               0.95     0.95      0.95   \n",
            "NuSVC                              0.95               0.94     0.94      0.95   \n",
            "ExtraTreeClassifier                0.94               0.93     0.93      0.94   \n",
            "NearestCentroid                    0.95               0.93     0.93      0.95   \n",
            "DecisionTreeClassifier             0.93               0.93     0.93      0.93   \n",
            "DummyClassifier                    0.53               0.50     0.50      0.53   \n",
            "\n",
            "                               Time Taken  \n",
            "Model                                      \n",
            "LinearSVC                            0.05  \n",
            "Perceptron                           0.02  \n",
            "LogisticRegression                   0.06  \n",
            "SVC                                  0.04  \n",
            "XGBClassifier                        0.19  \n",
            "LabelPropagation                     0.03  \n",
            "LabelSpreading                       0.04  \n",
            "BaggingClassifier                    0.06  \n",
            "PassiveAggressiveClassifier          0.02  \n",
            "SGDClassifier                        0.03  \n",
            "RandomForestClassifier               0.23  \n",
            "CalibratedClassifierCV               0.06  \n",
            "QuadraticDiscriminantAnalysis        0.02  \n",
            "ExtraTreesClassifier                 0.15  \n",
            "RidgeClassifierCV                    0.02  \n",
            "LGBMClassifier                       0.10  \n",
            "RidgeClassifier                      0.02  \n",
            "AdaBoostClassifier                   0.19  \n",
            "KNeighborsClassifier                 0.03  \n",
            "BernoulliNB                          0.02  \n",
            "LinearDiscriminantAnalysis           0.04  \n",
            "GaussianNB                           0.02  \n",
            "NuSVC                                0.03  \n",
            "ExtraTreeClassifier                  0.02  \n",
            "NearestCentroid                      0.02  \n",
            "DecisionTreeClassifier               0.02  \n",
            "DummyClassifier                      0.02  \n"
          ]
        },
        {
          "output_type": "stream",
          "name": "stderr",
          "text": [
            "\n"
          ]
        }
      ]
    }
  ]
}