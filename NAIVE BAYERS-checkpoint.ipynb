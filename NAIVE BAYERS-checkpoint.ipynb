{
 "cells": [
  {
   "cell_type": "code",
   "execution_count": 1,
   "metadata": {},
   "outputs": [
    {
     "data": {
      "text/html": [
       "<div>\n",
       "<style scoped>\n",
       "    .dataframe tbody tr th:only-of-type {\n",
       "        vertical-align: middle;\n",
       "    }\n",
       "\n",
       "    .dataframe tbody tr th {\n",
       "        vertical-align: top;\n",
       "    }\n",
       "\n",
       "    .dataframe thead th {\n",
       "        text-align: right;\n",
       "    }\n",
       "</style>\n",
       "<table border=\"1\" class=\"dataframe\">\n",
       "  <thead>\n",
       "    <tr style=\"text-align: right;\">\n",
       "      <th></th>\n",
       "      <th>User ID</th>\n",
       "      <th>Gender</th>\n",
       "      <th>Age</th>\n",
       "      <th>EstimatedSalary</th>\n",
       "      <th>Purchased</th>\n",
       "    </tr>\n",
       "  </thead>\n",
       "  <tbody>\n",
       "    <tr>\n",
       "      <th>0</th>\n",
       "      <td>15624510</td>\n",
       "      <td>Male</td>\n",
       "      <td>19.0</td>\n",
       "      <td>19000.0</td>\n",
       "      <td>0</td>\n",
       "    </tr>\n",
       "    <tr>\n",
       "      <th>1</th>\n",
       "      <td>15810944</td>\n",
       "      <td>Male</td>\n",
       "      <td>35.0</td>\n",
       "      <td>20000.0</td>\n",
       "      <td>0</td>\n",
       "    </tr>\n",
       "    <tr>\n",
       "      <th>2</th>\n",
       "      <td>15668575</td>\n",
       "      <td>Female</td>\n",
       "      <td>26.0</td>\n",
       "      <td>43000.0</td>\n",
       "      <td>0</td>\n",
       "    </tr>\n",
       "    <tr>\n",
       "      <th>3</th>\n",
       "      <td>15603246</td>\n",
       "      <td>Female</td>\n",
       "      <td>27.0</td>\n",
       "      <td>57000.0</td>\n",
       "      <td>0</td>\n",
       "    </tr>\n",
       "    <tr>\n",
       "      <th>4</th>\n",
       "      <td>15804002</td>\n",
       "      <td>Male</td>\n",
       "      <td>19.0</td>\n",
       "      <td>76000.0</td>\n",
       "      <td>0</td>\n",
       "    </tr>\n",
       "    <tr>\n",
       "      <th>...</th>\n",
       "      <td>...</td>\n",
       "      <td>...</td>\n",
       "      <td>...</td>\n",
       "      <td>...</td>\n",
       "      <td>...</td>\n",
       "    </tr>\n",
       "    <tr>\n",
       "      <th>395</th>\n",
       "      <td>15691863</td>\n",
       "      <td>Female</td>\n",
       "      <td>46.0</td>\n",
       "      <td>41000.0</td>\n",
       "      <td>1</td>\n",
       "    </tr>\n",
       "    <tr>\n",
       "      <th>396</th>\n",
       "      <td>15706071</td>\n",
       "      <td>Male</td>\n",
       "      <td>51.0</td>\n",
       "      <td>23000.0</td>\n",
       "      <td>1</td>\n",
       "    </tr>\n",
       "    <tr>\n",
       "      <th>397</th>\n",
       "      <td>15654296</td>\n",
       "      <td>Female</td>\n",
       "      <td>50.0</td>\n",
       "      <td>20000.0</td>\n",
       "      <td>1</td>\n",
       "    </tr>\n",
       "    <tr>\n",
       "      <th>398</th>\n",
       "      <td>15755018</td>\n",
       "      <td>Male</td>\n",
       "      <td>36.0</td>\n",
       "      <td>33000.0</td>\n",
       "      <td>0</td>\n",
       "    </tr>\n",
       "    <tr>\n",
       "      <th>399</th>\n",
       "      <td>15594041</td>\n",
       "      <td>Female</td>\n",
       "      <td>49.0</td>\n",
       "      <td>36000.0</td>\n",
       "      <td>1</td>\n",
       "    </tr>\n",
       "  </tbody>\n",
       "</table>\n",
       "<p>400 rows × 5 columns</p>\n",
       "</div>"
      ],
      "text/plain": [
       "      User ID  Gender   Age  EstimatedSalary  Purchased\n",
       "0    15624510    Male  19.0          19000.0          0\n",
       "1    15810944    Male  35.0          20000.0          0\n",
       "2    15668575  Female  26.0          43000.0          0\n",
       "3    15603246  Female  27.0          57000.0          0\n",
       "4    15804002    Male  19.0          76000.0          0\n",
       "..        ...     ...   ...              ...        ...\n",
       "395  15691863  Female  46.0          41000.0          1\n",
       "396  15706071    Male  51.0          23000.0          1\n",
       "397  15654296  Female  50.0          20000.0          1\n",
       "398  15755018    Male  36.0          33000.0          0\n",
       "399  15594041  Female  49.0          36000.0          1\n",
       "\n",
       "[400 rows x 5 columns]"
      ]
     },
     "execution_count": 1,
     "metadata": {},
     "output_type": "execute_result"
    }
   ],
   "source": [
    "import pandas as pd\n",
    "import statsmodels.api as sm\n",
    "file=pd.read_csv(\"C:/Users/MARUTHAM TECH/Downloads/Social_Network_Ads.csv\")\n",
    "df=pd.DataFrame(file)\n",
    "df"
   ]
  },
  {
   "cell_type": "code",
   "execution_count": 2,
   "metadata": {},
   "outputs": [
    {
     "data": {
      "text/plain": [
       "<bound method DataFrame.info of       User ID  Gender   Age  EstimatedSalary  Purchased\n",
       "0    15624510    Male  19.0          19000.0          0\n",
       "1    15810944    Male  35.0          20000.0          0\n",
       "2    15668575  Female  26.0          43000.0          0\n",
       "3    15603246  Female  27.0          57000.0          0\n",
       "4    15804002    Male  19.0          76000.0          0\n",
       "..        ...     ...   ...              ...        ...\n",
       "395  15691863  Female  46.0          41000.0          1\n",
       "396  15706071    Male  51.0          23000.0          1\n",
       "397  15654296  Female  50.0          20000.0          1\n",
       "398  15755018    Male  36.0          33000.0          0\n",
       "399  15594041  Female  49.0          36000.0          1\n",
       "\n",
       "[400 rows x 5 columns]>"
      ]
     },
     "execution_count": 2,
     "metadata": {},
     "output_type": "execute_result"
    }
   ],
   "source": [
    "df.info"
   ]
  },
  {
   "cell_type": "code",
   "execution_count": 3,
   "metadata": {},
   "outputs": [
    {
     "data": {
      "text/plain": [
       "(400, 5)"
      ]
     },
     "execution_count": 3,
     "metadata": {},
     "output_type": "execute_result"
    }
   ],
   "source": [
    "df.shape"
   ]
  },
  {
   "cell_type": "code",
   "execution_count": 4,
   "metadata": {},
   "outputs": [],
   "source": [
    "x=df.drop(['Purchased'],axis=1)"
   ]
  },
  {
   "cell_type": "code",
   "execution_count": 5,
   "metadata": {},
   "outputs": [
    {
     "data": {
      "text/html": [
       "<div>\n",
       "<style scoped>\n",
       "    .dataframe tbody tr th:only-of-type {\n",
       "        vertical-align: middle;\n",
       "    }\n",
       "\n",
       "    .dataframe tbody tr th {\n",
       "        vertical-align: top;\n",
       "    }\n",
       "\n",
       "    .dataframe thead th {\n",
       "        text-align: right;\n",
       "    }\n",
       "</style>\n",
       "<table border=\"1\" class=\"dataframe\">\n",
       "  <thead>\n",
       "    <tr style=\"text-align: right;\">\n",
       "      <th></th>\n",
       "      <th>User ID</th>\n",
       "      <th>Gender</th>\n",
       "      <th>Age</th>\n",
       "      <th>EstimatedSalary</th>\n",
       "    </tr>\n",
       "  </thead>\n",
       "  <tbody>\n",
       "    <tr>\n",
       "      <th>0</th>\n",
       "      <td>15624510</td>\n",
       "      <td>Male</td>\n",
       "      <td>19.0</td>\n",
       "      <td>19000.0</td>\n",
       "    </tr>\n",
       "    <tr>\n",
       "      <th>1</th>\n",
       "      <td>15810944</td>\n",
       "      <td>Male</td>\n",
       "      <td>35.0</td>\n",
       "      <td>20000.0</td>\n",
       "    </tr>\n",
       "    <tr>\n",
       "      <th>2</th>\n",
       "      <td>15668575</td>\n",
       "      <td>Female</td>\n",
       "      <td>26.0</td>\n",
       "      <td>43000.0</td>\n",
       "    </tr>\n",
       "    <tr>\n",
       "      <th>3</th>\n",
       "      <td>15603246</td>\n",
       "      <td>Female</td>\n",
       "      <td>27.0</td>\n",
       "      <td>57000.0</td>\n",
       "    </tr>\n",
       "    <tr>\n",
       "      <th>4</th>\n",
       "      <td>15804002</td>\n",
       "      <td>Male</td>\n",
       "      <td>19.0</td>\n",
       "      <td>76000.0</td>\n",
       "    </tr>\n",
       "    <tr>\n",
       "      <th>...</th>\n",
       "      <td>...</td>\n",
       "      <td>...</td>\n",
       "      <td>...</td>\n",
       "      <td>...</td>\n",
       "    </tr>\n",
       "    <tr>\n",
       "      <th>395</th>\n",
       "      <td>15691863</td>\n",
       "      <td>Female</td>\n",
       "      <td>46.0</td>\n",
       "      <td>41000.0</td>\n",
       "    </tr>\n",
       "    <tr>\n",
       "      <th>396</th>\n",
       "      <td>15706071</td>\n",
       "      <td>Male</td>\n",
       "      <td>51.0</td>\n",
       "      <td>23000.0</td>\n",
       "    </tr>\n",
       "    <tr>\n",
       "      <th>397</th>\n",
       "      <td>15654296</td>\n",
       "      <td>Female</td>\n",
       "      <td>50.0</td>\n",
       "      <td>20000.0</td>\n",
       "    </tr>\n",
       "    <tr>\n",
       "      <th>398</th>\n",
       "      <td>15755018</td>\n",
       "      <td>Male</td>\n",
       "      <td>36.0</td>\n",
       "      <td>33000.0</td>\n",
       "    </tr>\n",
       "    <tr>\n",
       "      <th>399</th>\n",
       "      <td>15594041</td>\n",
       "      <td>Female</td>\n",
       "      <td>49.0</td>\n",
       "      <td>36000.0</td>\n",
       "    </tr>\n",
       "  </tbody>\n",
       "</table>\n",
       "<p>400 rows × 4 columns</p>\n",
       "</div>"
      ],
      "text/plain": [
       "      User ID  Gender   Age  EstimatedSalary\n",
       "0    15624510    Male  19.0          19000.0\n",
       "1    15810944    Male  35.0          20000.0\n",
       "2    15668575  Female  26.0          43000.0\n",
       "3    15603246  Female  27.0          57000.0\n",
       "4    15804002    Male  19.0          76000.0\n",
       "..        ...     ...   ...              ...\n",
       "395  15691863  Female  46.0          41000.0\n",
       "396  15706071    Male  51.0          23000.0\n",
       "397  15654296  Female  50.0          20000.0\n",
       "398  15755018    Male  36.0          33000.0\n",
       "399  15594041  Female  49.0          36000.0\n",
       "\n",
       "[400 rows x 4 columns]"
      ]
     },
     "execution_count": 5,
     "metadata": {},
     "output_type": "execute_result"
    }
   ],
   "source": [
    "x"
   ]
  },
  {
   "cell_type": "code",
   "execution_count": 6,
   "metadata": {},
   "outputs": [],
   "source": [
    "y=df[\"Purchased\"]"
   ]
  },
  {
   "cell_type": "code",
   "execution_count": 7,
   "metadata": {},
   "outputs": [
    {
     "data": {
      "text/plain": [
       "0      0\n",
       "1      0\n",
       "2      0\n",
       "3      0\n",
       "4      0\n",
       "      ..\n",
       "395    1\n",
       "396    1\n",
       "397    1\n",
       "398    0\n",
       "399    1\n",
       "Name: Purchased, Length: 400, dtype: int64"
      ]
     },
     "execution_count": 7,
     "metadata": {},
     "output_type": "execute_result"
    }
   ],
   "source": [
    "y"
   ]
  },
  {
   "cell_type": "code",
   "execution_count": 8,
   "metadata": {},
   "outputs": [],
   "source": [
    "from sklearn import preprocessing\n",
    "le=preprocessing.LabelEncoder()\n",
    "df['Gender']=le.fit_transform(df[\"Gender\"])"
   ]
  },
  {
   "cell_type": "code",
   "execution_count": 9,
   "metadata": {},
   "outputs": [],
   "source": [
    "x=df.drop(['Purchased'],axis=1)\n",
    "y=df[\"Purchased\"]"
   ]
  },
  {
   "cell_type": "code",
   "execution_count": 10,
   "metadata": {},
   "outputs": [],
   "source": [
    "from sklearn.model_selection import train_test_split\n",
    "x_train,x_test,y_train,y_test=train_test_split(x,y,test_size=0.20,random_state=0)"
   ]
  },
  {
   "cell_type": "code",
   "execution_count": 11,
   "metadata": {},
   "outputs": [],
   "source": [
    "from sklearn.preprocessing import StandardScaler\n",
    "sc=StandardScaler()\n",
    "x_train=sc.fit_transform(x_train)\n",
    "x_test=sc.transform(x_test)"
   ]
  },
  {
   "cell_type": "code",
   "execution_count": 12,
   "metadata": {},
   "outputs": [
    {
     "data": {
      "text/plain": [
       "BernoulliNB(alpha=1.0, binarize=0.0, class_prior=None, fit_prior=True)"
      ]
     },
     "execution_count": 12,
     "metadata": {},
     "output_type": "execute_result"
    }
   ],
   "source": [
    "from sklearn.naive_bayes import BernoulliNB \n",
    "classifier=BernoulliNB ()\n",
    "classifier.fit(x_train,y_train)"
   ]
  },
  {
   "cell_type": "code",
   "execution_count": 13,
   "metadata": {},
   "outputs": [
    {
     "data": {
      "text/plain": [
       "array([[0.78730608, 0.21269392],\n",
       "       [0.89408165, 0.10591835],\n",
       "       [0.78730608, 0.21269392],\n",
       "       [0.75017936, 0.24982064],\n",
       "       [0.89408165, 0.10591835],\n",
       "       [0.91801475, 0.08198525],\n",
       "       [0.89408165, 0.10591835],\n",
       "       [0.77476428, 0.22523572],\n",
       "       [0.89408165, 0.10591835],\n",
       "       [0.53669617, 0.46330383],\n",
       "       [0.91232204, 0.08767796],\n",
       "       [0.90082993, 0.09917007],\n",
       "       [0.91801475, 0.08198525],\n",
       "       [0.27690582, 0.72309418],\n",
       "       [0.78730608, 0.21269392],\n",
       "       [0.75017936, 0.24982064],\n",
       "       [0.78730608, 0.21269392],\n",
       "       [0.78730608, 0.21269392],\n",
       "       [0.23702568, 0.76297432],\n",
       "       [0.91801475, 0.08198525],\n",
       "       [0.89408165, 0.10591835],\n",
       "       [0.25054565, 0.74945435],\n",
       "       [0.48446879, 0.51553121],\n",
       "       [0.29183049, 0.70816951],\n",
       "       [0.89408165, 0.10591835],\n",
       "       [0.25054565, 0.74945435],\n",
       "       [0.73618191, 0.26381809],\n",
       "       [0.78730608, 0.21269392],\n",
       "       [0.89408165, 0.10591835],\n",
       "       [0.73618191, 0.26381809],\n",
       "       [0.77476428, 0.22523572],\n",
       "       [0.77476428, 0.22523572],\n",
       "       [0.55487821, 0.44512179],\n",
       "       [0.91232204, 0.08767796],\n",
       "       [0.91801475, 0.08198525],\n",
       "       [0.91801475, 0.08198525],\n",
       "       [0.77476428, 0.22523572],\n",
       "       [0.89408165, 0.10591835],\n",
       "       [0.89408165, 0.10591835],\n",
       "       [0.48446879, 0.51553121],\n",
       "       [0.78730608, 0.21269392],\n",
       "       [0.53669617, 0.46330383],\n",
       "       [0.73618191, 0.26381809],\n",
       "       [0.91801475, 0.08198525],\n",
       "       [0.25054565, 0.74945435],\n",
       "       [0.89408165, 0.10591835],\n",
       "       [0.75017936, 0.24982064],\n",
       "       [0.25054565, 0.74945435],\n",
       "       [0.91801475, 0.08198525],\n",
       "       [0.27690582, 0.72309418],\n",
       "       [0.25054565, 0.74945435],\n",
       "       [0.89408165, 0.10591835],\n",
       "       [0.89408165, 0.10591835],\n",
       "       [0.77476428, 0.22523572],\n",
       "       [0.23702568, 0.76297432],\n",
       "       [0.55487821, 0.44512179],\n",
       "       [0.75017936, 0.24982064],\n",
       "       [0.73618191, 0.26381809],\n",
       "       [0.55487821, 0.44512179],\n",
       "       [0.91232204, 0.08767796],\n",
       "       [0.91232204, 0.08767796],\n",
       "       [0.55487821, 0.44512179],\n",
       "       [0.78730608, 0.21269392],\n",
       "       [0.78730608, 0.21269392],\n",
       "       [0.89408165, 0.10591835],\n",
       "       [0.29183049, 0.70816951],\n",
       "       [0.75017936, 0.24982064],\n",
       "       [0.91801475, 0.08198525],\n",
       "       [0.53669617, 0.46330383],\n",
       "       [0.25054565, 0.74945435],\n",
       "       [0.75017936, 0.24982064],\n",
       "       [0.75017936, 0.24982064],\n",
       "       [0.89408165, 0.10591835],\n",
       "       [0.53669617, 0.46330383],\n",
       "       [0.78730608, 0.21269392],\n",
       "       [0.77476428, 0.22523572],\n",
       "       [0.25054565, 0.74945435],\n",
       "       [0.48446879, 0.51553121],\n",
       "       [0.50280168, 0.49719832],\n",
       "       [0.23702568, 0.76297432]])"
      ]
     },
     "execution_count": 13,
     "metadata": {},
     "output_type": "execute_result"
    }
   ],
   "source": [
    "y_pred=classifier.predict(x_test)\n",
    "classifier.predict_proba(x_test)"
   ]
  },
  {
   "cell_type": "code",
   "execution_count": 14,
   "metadata": {},
   "outputs": [
    {
     "data": {
      "text/plain": [
       "0.8125"
      ]
     },
     "execution_count": 14,
     "metadata": {},
     "output_type": "execute_result"
    }
   ],
   "source": [
    "from sklearn.metrics import accuracy_score\n",
    "accuracy_score(y_test,y_pred)"
   ]
  },
  {
   "cell_type": "code",
   "execution_count": 15,
   "metadata": {},
   "outputs": [
    {
     "data": {
      "text/plain": [
       "array([[53,  5],\n",
       "       [10, 12]], dtype=int64)"
      ]
     },
     "execution_count": 15,
     "metadata": {},
     "output_type": "execute_result"
    }
   ],
   "source": [
    "from sklearn.metrics import confusion_matrix\n",
    "confusion_matrix(y_test,y_pred)"
   ]
  },
  {
   "cell_type": "code",
   "execution_count": 16,
   "metadata": {},
   "outputs": [
    {
     "data": {
      "text/plain": [
       "'              precision    recall  f1-score   support\\n\\n           0       0.84      0.91      0.88        58\\n           1       0.71      0.55      0.62        22\\n\\n    accuracy                           0.81        80\\n   macro avg       0.77      0.73      0.75        80\\nweighted avg       0.80      0.81      0.80        80\\n'"
      ]
     },
     "execution_count": 16,
     "metadata": {},
     "output_type": "execute_result"
    }
   ],
   "source": [
    "from sklearn.metrics import classification_report\n",
    "classification_report(y_test,y_pred)"
   ]
  },
  {
   "cell_type": "code",
   "execution_count": 17,
   "metadata": {},
   "outputs": [],
   "source": [
    "from sklearn.metrics import roc_curve\n"
   ]
  },
  {
   "cell_type": "code",
   "execution_count": 18,
   "metadata": {},
   "outputs": [],
   "source": [
    "from sklearn.metrics import roc_auc_score"
   ]
  },
  {
   "cell_type": "code",
   "execution_count": 19,
   "metadata": {},
   "outputs": [],
   "source": [
    "y_proba=classifier.predict_proba(x_test)"
   ]
  },
  {
   "cell_type": "code",
   "execution_count": 20,
   "metadata": {},
   "outputs": [],
   "source": [
    "y_predicted = y_proba[:,1]"
   ]
  },
  {
   "cell_type": "code",
   "execution_count": 21,
   "metadata": {},
   "outputs": [
    {
     "name": "stdout",
     "output_type": "stream",
     "text": [
      "[0.21269392 0.10591835 0.21269392 0.24982064 0.10591835 0.08198525\n",
      " 0.10591835 0.22523572 0.10591835 0.46330383 0.08767796 0.09917007\n",
      " 0.08198525 0.72309418 0.21269392 0.24982064 0.21269392 0.21269392\n",
      " 0.76297432 0.08198525 0.10591835 0.74945435 0.51553121 0.70816951\n",
      " 0.10591835 0.74945435 0.26381809 0.21269392 0.10591835 0.26381809\n",
      " 0.22523572 0.22523572 0.44512179 0.08767796 0.08198525 0.08198525\n",
      " 0.22523572 0.10591835 0.10591835 0.51553121 0.21269392 0.46330383\n",
      " 0.26381809 0.08198525 0.74945435 0.10591835 0.24982064 0.74945435\n",
      " 0.08198525 0.72309418 0.74945435 0.10591835 0.10591835 0.22523572\n",
      " 0.76297432 0.44512179 0.24982064 0.26381809 0.44512179 0.08767796\n",
      " 0.08767796 0.44512179 0.21269392 0.21269392 0.10591835 0.70816951\n",
      " 0.24982064 0.08198525 0.46330383 0.74945435 0.24982064 0.24982064\n",
      " 0.10591835 0.46330383 0.21269392 0.22523572 0.74945435 0.51553121\n",
      " 0.49719832 0.76297432]\n"
     ]
    }
   ],
   "source": [
    "print(y_predicted)"
   ]
  },
  {
   "cell_type": "code",
   "execution_count": 22,
   "metadata": {},
   "outputs": [],
   "source": [
    "fpr,tpr,thresholds=roc_curve(y_test,y_predicted) #using roc curve to generate fpr and tpr values"
   ]
  },
  {
   "cell_type": "code",
   "execution_count": 23,
   "metadata": {},
   "outputs": [
    {
     "name": "stdout",
     "output_type": "stream",
     "text": [
      "AREA under the curve for first model 0.8883228840125391\n"
     ]
    }
   ],
   "source": [
    "from sklearn.metrics import auc\n",
    "roc_auc=auc(fpr,tpr)\n",
    "print(\"AREA under the curve for first model\",roc_auc)"
   ]
  },
  {
   "cell_type": "code",
   "execution_count": 24,
   "metadata": {},
   "outputs": [
    {
     "data": {
      "text/plain": [
       "Text(0, 0.5, 'True Positive Rate(Sensitivity)')"
      ]
     },
     "execution_count": 24,
     "metadata": {},
     "output_type": "execute_result"
    },
    {
     "data": {
      "image/png": "[encoded data removed]",
      "text/plain": [
       "<Figure size 432x288 with 1 Axes>"
      ]
     },
     "metadata": {
      "needs_background": "light"
     },
     "output_type": "display_data"
    }
   ],
   "source": [
    "import matplotlib.pyplot as plt\n",
    "plt.figure()\n",
    "plt.plot(fpr,tpr,color ='orange',lw=2,label = 'ROC curve(area under curve=%0.2f)'%roc_auc)\n",
    "plt.plot([0,1],[0,1],color ='darkgrey',lw=2,linestyle='--')\n",
    "plt.xlim([0.0,1.0])\n",
    "plt.ylim([0.0,1.0])\n",
    "plt.xlabel('False Positive Rate(1-Specificity)')\n",
    "plt.ylabel('True Positive Rate(Sensitivity)')"
   ]
  },
  {
   "cell_type": "code",
   "execution_count": null,
   "metadata": {},
   "outputs": [],
   "source": []
  }
 ],
 "metadata": {
  "kernelspec": {
   "display_name": "Python 3",
   "language": "python",
   "name": "python3"
  },
  "language_info": {
   "codemirror_mode": {
    "name": "ipython",
    "version": 3
   },
   "file_extension": ".py",
   "mimetype": "text/x-python",
   "name": "python",
   "nbconvert_exporter": "python",
   "pygments_lexer": "ipython3",
   "version": "3.7.6"
  }
 },
 "nbformat": 4,
 "nbformat_minor": 4
}
